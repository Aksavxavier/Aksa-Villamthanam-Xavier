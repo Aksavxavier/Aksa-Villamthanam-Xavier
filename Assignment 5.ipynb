{
 "cells": [
  {
   "cell_type": "markdown",
   "id": "9bb5b461",
   "metadata": {},
   "source": [
    "1.Convertthegivenlistintoa numpyarrayandreplacetheoddelementswith-2.Lst=[[1,2,3], [4,5,6], [7,8,9]]"
   ]
  },
  {
   "cell_type": "code",
   "execution_count": 1,
   "id": "701c4b69",
   "metadata": {},
   "outputs": [
    {
     "name": "stdout",
     "output_type": "stream",
     "text": [
      "[[-2  2 -2]\n",
      " [ 4 -2  6]\n",
      " [-2  8 -2]]\n"
     ]
    }
   ],
   "source": [
    "import numpy as np\n",
    "\n",
    "lst = [[1, 2, 3], [4, 5, 6], [7, 8, 9]]\n",
    "\n",
    "# Convert the list to a NumPy array\n",
    "arr = np.array(lst)\n",
    "\n",
    "# Replace the odd elements with -2\n",
    "arr[arr % 2 != 0] = -2\n",
    "\n",
    "print(arr)\n"
   ]
  },
  {
   "cell_type": "markdown",
   "id": "bfb29642",
   "metadata": {},
   "source": [
    "2.In the numpy array given below print all the elements ranging from 8 to 15.arr = [1,2,3,4,5,8,9,10,12,22,32,54,99,6,7]"
   ]
  },
  {
   "cell_type": "code",
   "execution_count": 2,
   "id": "7c00ab0c",
   "metadata": {
    "scrolled": true
   },
   "outputs": [
    {
     "name": "stdout",
     "output_type": "stream",
     "text": [
      "[ 8  9 10 12]\n"
     ]
    }
   ],
   "source": [
    "import numpy as np\n",
    "\n",
    "arr = np.array([1, 2, 3, 4, 5, 8, 9, 10, 12, 22, 32, 54, 99, 6, 7])\n",
    "\n",
    "# Use boolean indexing to get elements in the range [8, 15]\n",
    "result = arr[(arr >= 8) & (arr <= 15)]\n",
    "\n",
    "print(result)\n"
   ]
  },
  {
   "cell_type": "markdown",
   "id": "7f15809d",
   "metadata": {},
   "source": [
    "3.Create a 3*3 n array thatincludes numbersfrom 1 to 9 and swap columns1 and 2."
   ]
  },
  {
   "cell_type": "code",
   "execution_count": 3,
   "id": "96e7ac3a",
   "metadata": {},
   "outputs": [
    {
     "name": "stdout",
     "output_type": "stream",
     "text": [
      "Original array:\n",
      "[[1 2 3]\n",
      " [4 5 6]\n",
      " [7 8 9]]\n",
      "\n",
      "Array after swapping columns 1 and 2:\n",
      "[[2 1 3]\n",
      " [5 4 6]\n",
      " [8 7 9]]\n"
     ]
    }
   ],
   "source": [
    "import numpy as np\n",
    "\n",
    "# Create a 3x3 array with numbers from 1 to 9\n",
    "arr = np.array([[1, 2, 3],\n",
    "                [4, 5, 6],\n",
    "                [7, 8, 9]])\n",
    "\n",
    "print(\"Original array:\")\n",
    "print(arr)\n",
    "\n",
    "# Swap columns 1 and 2\n",
    "arr[:, [0, 1]] = arr[:, [1, 0]]\n",
    "\n",
    "print(\"\\nArray after swapping columns 1 and 2:\")\n",
    "print(arr)\n"
   ]
  },
  {
   "cell_type": "markdown",
   "id": "ac50bdf9",
   "metadata": {},
   "source": [
    "4.In the given numpyarray replace the NaN values with the average of columnsarr= np.array([[1.3, 2.5, 3.6, np.nan], [2.6, 3.3, np.nan, 5.5], [2.1, 3.2, 5.4, 6.5]])"
   ]
  },
  {
   "cell_type": "code",
   "execution_count": 4,
   "id": "206c5bad",
   "metadata": {},
   "outputs": [
    {
     "name": "stdout",
     "output_type": "stream",
     "text": [
      "Array after replacing NaN with column averages:\n",
      "[[1.3 2.5 3.6 6. ]\n",
      " [2.6 3.3 4.5 5.5]\n",
      " [2.1 3.2 5.4 6.5]]\n"
     ]
    }
   ],
   "source": [
    "import numpy as np\n",
    "\n",
    "arr = np.array([[1.3, 2.5, 3.6, np.nan],\n",
    "                [2.6, 3.3, np.nan, 5.5],\n",
    "                [2.1, 3.2, 5.4, 6.5]])\n",
    "\n",
    "# Calculate the column-wise average, ignoring NaN values\n",
    "column_averages = np.nanmean(arr, axis=0)\n",
    "\n",
    "# Find the indices of NaN values\n",
    "nan_indices = np.isnan(arr)\n",
    "\n",
    "# Replace NaN values with column averages\n",
    "arr[nan_indices] = np.take(column_averages, np.where(nan_indices)[1])\n",
    "\n",
    "print(\"Array after replacing NaN with column averages:\")\n",
    "print(arr)\n"
   ]
  },
  {
   "cell_type": "markdown",
   "id": "40607965",
   "metadata": {},
   "source": [
    "5.For the numpy array given below perform the following operation:i.Convert the numpy array into a numpymatrixii.Sort the values in a matrixarr = [[2,4,6],[1,3,5]]\n"
   ]
  },
  {
   "cell_type": "code",
   "execution_count": 6,
   "id": "3e05124d",
   "metadata": {},
   "outputs": [
    {
     "name": "stdout",
     "output_type": "stream",
     "text": [
      "Original NumPy array:\n",
      "[[2 4 6]\n",
      " [1 3 5]]\n",
      "\n",
      "NumPy matrix:\n",
      "[[2 4 6]\n",
      " [1 3 5]]\n",
      "\n",
      "Sorted values in the matrix:\n",
      "[[1 2 3 4 5 6]]\n"
     ]
    }
   ],
   "source": [
    "import numpy as np\n",
    "\n",
    "arr = np.array([[2, 4, 6],\n",
    "                [1, 3, 5]])\n",
    "\n",
    "# i. Convert the NumPy array into a NumPy matrix\n",
    "matrix = np.matrix(arr)\n",
    "\n",
    "# ii. Sort the values in the matrix\n",
    "sorted_matrix = np.sort(matrix, axis=None)\n",
    "\n",
    "print(\"Original NumPy array:\")\n",
    "print(arr)\n",
    "\n",
    "print(\"\\nNumPy matrix:\")\n",
    "print(matrix)\n",
    "\n",
    "print(\"\\nSorted values in the matrix:\")\n",
    "print(sorted_matrix)\n"
   ]
  },
  {
   "cell_type": "code",
   "execution_count": null,
   "id": "d2274586",
   "metadata": {},
   "outputs": [],
   "source": []
  }
 ],
 "metadata": {
  "kernelspec": {
   "display_name": "Python 3 (ipykernel)",
   "language": "python",
   "name": "python3"
  },
  "language_info": {
   "codemirror_mode": {
    "name": "ipython",
    "version": 3
   },
   "file_extension": ".py",
   "mimetype": "text/x-python",
   "name": "python",
   "nbconvert_exporter": "python",
   "pygments_lexer": "ipython3",
   "version": "3.10.9"
  }
 },
 "nbformat": 4,
 "nbformat_minor": 5
}
