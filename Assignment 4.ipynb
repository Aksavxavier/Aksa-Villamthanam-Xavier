{
 "cells": [
  {
   "cell_type": "markdown",
   "id": "838acea5",
   "metadata": {},
   "source": [
    "1.A Robot moves in a Plane starting from the origin point (0,0). The robot can move UP, DOWN, LEFT, and RIGHT. The trace of Robot movement is as given following:\n",
    "UP 5\n",
    "DOWN 3\n",
    "LEFT 3\n",
    "RIGHT 2\n",
    "(The numbers after directions are steps)  \n",
    "Write a program to compute the current distance from the origin point after sequencing of movements.\n",
    "Hint:Use the math module."
   ]
  },
  {
   "cell_type": "code",
   "execution_count": 1,
   "id": "cf4c8487",
   "metadata": {},
   "outputs": [
    {
     "name": "stdout",
     "output_type": "stream",
     "text": [
      "The current distance from the origin is: 2.23606797749979\n"
     ]
    }
   ],
   "source": [
    "import math\n",
    "\n",
    "def calculate_distance(movements):\n",
    "    # Initialize the starting point at the origin (0, 0)\n",
    "    x, y = 0, 0\n",
    "    \n",
    "    # Iterate through each movement\n",
    "    for movement in movements:\n",
    "        direction, steps = movement.split()\n",
    "        steps = int(steps)\n",
    "        \n",
    "        # Update the coordinates based on the movement direction\n",
    "        if direction == 'UP':\n",
    "            y += steps\n",
    "        elif direction == 'DOWN':\n",
    "            y -= steps\n",
    "        elif direction == 'LEFT':\n",
    "            x -= steps\n",
    "        elif direction == 'RIGHT':\n",
    "            x += steps\n",
    "    \n",
    "    # Calculate the Euclidean distance from the origin\n",
    "    distance = math.sqrt(x**2 + y**2)\n",
    "    \n",
    "    return distance\n",
    "\n",
    "# Example movements\n",
    "movements = ['UP 5', 'DOWN 3', 'LEFT 3', 'RIGHT 2']\n",
    "\n",
    "# Calculate and print the distance\n",
    "distance = calculate_distance(movements)\n",
    "print(f\"The current distance from the origin is: {distance}\")\n"
   ]
  },
  {
   "cell_type": "markdown",
   "id": "14a99756",
   "metadata": {},
   "source": [
    "2.Data of XYZ company is stored in a sorted list. \n",
    "Write a program to search for specific data from that list.\n",
    "Hint:Use if/elifto deal with conditions."
   ]
  },
  {
   "cell_type": "code",
   "execution_count": 2,
   "id": "3502063f",
   "metadata": {},
   "outputs": [
    {
     "name": "stdout",
     "output_type": "stream",
     "text": [
      "Data found at index 3\n"
     ]
    }
   ],
   "source": [
    "def binary_search(sorted_list, target):\n",
    "    low, high = 0, len(sorted_list) - 1\n",
    "    \n",
    "    while low <= high:\n",
    "        mid = (low + high) // 2\n",
    "        mid_value = sorted_list[mid]\n",
    "        \n",
    "        if mid_value == target:\n",
    "            return f\"Data found at index {mid}\"\n",
    "        elif mid_value < target:\n",
    "            low = mid + 1\n",
    "        else:\n",
    "            high = mid - 1\n",
    "    \n",
    "    return \"Data not found\"\n",
    "\n",
    "# Example sorted list\n",
    "xyz_data = [10, 20, 30, 40, 50, 60, 70, 80, 90]\n",
    "\n",
    "# Example search\n",
    "target_data = 40\n",
    "result = binary_search(xyz_data, target_data)\n",
    "\n",
    "# Print the result\n",
    "print(result)\n"
   ]
  },
  {
   "cell_type": "markdown",
   "id": "44acaecf",
   "metadata": {},
   "source": [
    "3.A weather forecasting organization wants to show whether it is day or night. Write a program to find whether is it dark outside or not based on the local system time.\n",
    "Hint:Use the time module."
   ]
  },
  {
   "cell_type": "code",
   "execution_count": 3,
   "id": "bc9cab1f",
   "metadata": {},
   "outputs": [
    {
     "name": "stdout",
     "output_type": "stream",
     "text": [
      "It is dark outside.\n"
     ]
    }
   ],
   "source": [
    "import time\n",
    "\n",
    "def is_dark_outside():\n",
    "    # Get the current local time\n",
    "    current_time = time.localtime()\n",
    "\n",
    "    # Extract the hour from the current time\n",
    "    current_hour = current_time.tm_hour\n",
    "\n",
    "    # Check if it is dark outside (assuming 6 PM to 6 AM as night time)\n",
    "    if 18 <= current_hour or current_hour < 6:\n",
    "        return True\n",
    "    else:\n",
    "        return False\n",
    "\n",
    "# Check whether it is dark outside and print the result\n",
    "if is_dark_outside():\n",
    "    print(\"It is dark outside.\")\n",
    "else:\n",
    "    print(\"It is not dark outside.\")\n"
   ]
  },
  {
   "cell_type": "markdown",
   "id": "38b31464",
   "metadata": {},
   "source": [
    "4.Write a program to find the distance between two locations when their latitude and longitudes are given.\n",
    "Hint:Use the math module."
   ]
  },
  {
   "cell_type": "code",
   "execution_count": 4,
   "id": "f9465543",
   "metadata": {},
   "outputs": [
    {
     "name": "stdout",
     "output_type": "stream",
     "text": [
      "The distance between the two locations is approximately 559.12 kilometers.\n"
     ]
    }
   ],
   "source": [
    "import math\n",
    "\n",
    "def haversine_distance(lat1, lon1, lat2, lon2):\n",
    "    # Radius of the Earth in kilometers\n",
    "    R = 6371.0\n",
    "\n",
    "    # Convert latitude and longitude from degrees to radians\n",
    "    lat1_rad = math.radians(lat1)\n",
    "    lon1_rad = math.radians(lon1)\n",
    "    lat2_rad = math.radians(lat2)\n",
    "    lon2_rad = math.radians(lon2)\n",
    "\n",
    "    # Differences in coordinates\n",
    "    dlat = lat2_rad - lat1_rad\n",
    "    dlon = lon2_rad - lon1_rad\n",
    "\n",
    "    # Haversine formula\n",
    "    a = math.sin(dlat / 2)**2 + math.cos(lat1_rad) * math.cos(lat2_rad) * math.sin(dlon / 2)**2\n",
    "    c = 2 * math.atan2(math.sqrt(a), math.sqrt(1 - a))\n",
    "\n",
    "    # Calculate the distance\n",
    "    distance = R * c\n",
    "\n",
    "    return distance\n",
    "\n",
    "# Example coordinates (latitude and longitude in degrees)\n",
    "location1 = (37.7749, -122.4194)  # San Francisco, CA\n",
    "location2 = (34.0522, -118.2437)  # Los Angeles, CA\n",
    "\n",
    "# Calculate and print the distance\n",
    "distance = haversine_distance(*location1, *location2)\n",
    "print(f\"The distance between the two locations is approximately {distance:.2f} kilometers.\")\n"
   ]
  },
  {
   "cell_type": "markdown",
   "id": "2a4e7cee",
   "metadata": {},
   "source": [
    "5.Design a banking system software with options like cash withdrawal, cash credit,and change password. The software must display appropriate results based on user inputs.Hint:Use if else statements and functions."
   ]
  },
  {
   "cell_type": "code",
   "execution_count": null,
   "id": "bdc70591",
   "metadata": {},
   "outputs": [
    {
     "name": "stdout",
     "output_type": "stream",
     "text": [
      "\n",
      "Options:\n",
      "1. Display Balance\n",
      "2. Withdraw Cash\n",
      "3. Credit Cash\n",
      "4. Change Password\n",
      "5. Exit\n"
     ]
    }
   ],
   "source": [
    "class BankAccount:\n",
    "    def __init__(self, balance, password):\n",
    "        self.balance = balance\n",
    "        self.password = password\n",
    "\n",
    "    def display_balance(self):\n",
    "        print(f\"Current Balance: ${self.balance:.2f}\")\n",
    "\n",
    "    def withdraw_cash(self, amount):\n",
    "        if amount > 0 and amount <= self.balance:\n",
    "            self.balance -= amount\n",
    "            print(f\"Withdrawal successful. Remaining Balance: ${self.balance:.2f}\")\n",
    "        else:\n",
    "            print(\"Invalid withdrawal amount or insufficient funds.\")\n",
    "\n",
    "    def credit_cash(self, amount):\n",
    "        if amount > 0:\n",
    "            self.balance += amount\n",
    "            print(f\"Credit successful. Updated Balance: ${self.balance:.2f}\")\n",
    "        else:\n",
    "            print(\"Invalid credit amount.\")\n",
    "\n",
    "    def change_password(self, new_password):\n",
    "        self.password = new_password\n",
    "        print(\"Password changed successfully.\")\n",
    "\n",
    "# Example usage\n",
    "def main():\n",
    "    # Initialize a bank account with balance $1000 and password \"1234\"\n",
    "    my_account = BankAccount(1000.0, \"1234\")\n",
    "\n",
    "    while True:\n",
    "        print(\"\\nOptions:\")\n",
    "        print(\"1. Display Balance\")\n",
    "        print(\"2. Withdraw Cash\")\n",
    "        print(\"3. Credit Cash\")\n",
    "        print(\"4. Change Password\")\n",
    "        print(\"5. Exit\")\n",
    "\n",
    "        choice = input(\"Enter your choice (1-5): \")\n",
    "\n",
    "        if choice == \"1\":\n",
    "            my_account.display_balance()\n",
    "        elif choice == \"2\":\n",
    "            amount = float(input(\"Enter withdrawal amount: $\"))\n",
    "            my_account.withdraw_cash(amount)\n",
    "        elif choice == \"3\":\n",
    "            amount = float(input(\"Enter credit amount: $\"))\n",
    "            my_account.credit_cash(amount)\n",
    "        elif choice == \"4\":\n",
    "            new_password = input(\"Enter new password: \")\n",
    "            my_account.change_password(new_password)\n",
    "        elif choice == \"5\":\n",
    "            print(\"Exiting the banking system.\")\n",
    "            break\n",
    "        else:\n",
    "            print(\"Invalid choice. Please enter a number between 1 and 5.\")\n",
    "\n",
    "if __name__ == \"__main__\":\n",
    "    main()\n"
   ]
  },
  {
   "cell_type": "markdown",
   "id": "726db64f",
   "metadata": {},
   "source": [
    "6.Write a prograthatch will find all numbers which are divisible by 7 but are not a multiple of 5, between 2,000 and 3,200(both included). The numbers obtained should be printed in a comma-separated sequence on a single line."
   ]
  },
  {
   "cell_type": "code",
   "execution_count": null,
   "id": "a0afcd24",
   "metadata": {},
   "outputs": [],
   "source": [
    "result = [str(num) for num in range(2000, 3201) if num % 7 == 0 and num % 5 != 0]\n",
    "print(','.join(result))\n"
   ]
  },
  {
   "cell_type": "markdown",
   "id": "c1fa7228",
   "metadata": {},
   "source": [
    "7.Write  a  prograthatch that can  compute  the  factorial ofgiven  numbers.  Use recursion to find it."
   ]
  },
  {
   "cell_type": "code",
   "execution_count": null,
   "id": "c08dd217",
   "metadata": {},
   "outputs": [],
   "source": [
    "def factorial(n):\n",
    "    # Base case: factorial of 0 is 1\n",
    "    if n == 0:\n",
    "        return 1\n",
    "    # Recursive case: factorial of n is n times factorial of (n-1)\n",
    "    else:\n",
    "        return n * factorial(n - 1)\n",
    "\n",
    "# Example usage\n",
    "number = int(input(\"Enter a number to find its factorial: \"))\n",
    "\n",
    "# Check if the input is non-negative\n",
    "if number < 0:\n",
    "    print(\"Factorial is undefined for negative numbers.\")\n",
    "else:\n",
    "    result = factorial(number)\n",
    "    print(f\"The factorial of {number} is: {result}\")\n"
   ]
  },
  {
   "cell_type": "markdown",
   "id": "018d7c4f",
   "metadata": {},
   "source": [
    "8.Write  a  program  that  calculates  and  prints  the value  according  to  the  given formula:\n",
    "Q = Square root of [(2 * C * D)/H]\n",
    "Following are the fixed values of C and H: C is 50. H is 30.D  is  the  variable  whose  values  should  be  input  to  your  program  in  a comma-separatedsequence. \n",
    "Example\n",
    "Let  us  assume  the  following comma-separatedinput  sequence  is  given  to  the program:100,150,180\n",
    "The output of the program should be:18,22,24"
   ]
  },
  {
   "cell_type": "code",
   "execution_count": null,
   "id": "745a788b",
   "metadata": {},
   "outputs": [],
   "source": [
    "import math\n",
    "\n",
    "def calculate_Q(d_values, c=50, h=30):\n",
    "    result = []\n",
    "    \n",
    "    for d in d_values:\n",
    "        q = int(math.sqrt((2 * c * d) / h))\n",
    "        result.append(q)\n",
    "    \n",
    "    return result\n",
    "\n",
    "# Example usage\n",
    "input_sequence = input(\"Enter comma-separated values of D: \")\n",
    "d_values = [int(d) for d in input_sequence.split(',')]\n",
    "\n",
    "output_values = calculate_Q(d_values)\n",
    "\n",
    "print(\"The output of the program is:\", \",\".join(map(str, output_values)))\n"
   ]
  },
  {
   "cell_type": "markdown",
   "id": "76827a70",
   "metadata": {},
   "source": [
    "9.Write a program thattakes 2 digits, X, Yas input and generates a 2-dimensional array.\n",
    "The element value in the ith row and jthcolumn of the array should be i*j.Note:I =0,1,.., X-1; j=0,1,¡-Y-1.\n",
    "Example\n",
    "Suppose the following inputs are given to the program:3,5\n",
    "Then, the output of the program should be:[[0, 0, 0, 0, 0], [0, 1, 2, 3, 4], [0, 2, 4, 6, 8]]"
   ]
  },
  {
   "cell_type": "code",
   "execution_count": 4,
   "id": "f6f96bab",
   "metadata": {},
   "outputs": [
    {
     "name": "stdout",
     "output_type": "stream",
     "text": [
      "Enter the value for X: 3\n",
      "Enter the value for Y: 5\n",
      "The output of the program is:\n",
      "[0, 0, 0, 0, 0]\n",
      "[0, 1, 2, 3, 4]\n",
      "[0, 2, 4, 6, 8]\n"
     ]
    }
   ],
   "source": [
    "def generate_2d_array(x, y):\n",
    "    result = [[i*j for j in range(y)] for i in range(x)]\n",
    "    return result\n",
    "\n",
    "# Example usage\n",
    "try:\n",
    "    x = int(input(\"Enter the value for X: \"))\n",
    "    y = int(input(\"Enter the value for Y: \"))\n",
    "\n",
    "    if x < 0 or y < 0:\n",
    "        print(\"Please enter non-negative integers for X and Y.\")\n",
    "    else:\n",
    "        output_array = generate_2d_array(x, y)\n",
    "        print(\"The output of the program is:\")\n",
    "        for row in output_array:\n",
    "            print(row)\n",
    "except ValueError:\n",
    "    print(\"Please enter valid integers for X and Y.\")\n"
   ]
  },
  {
   "cell_type": "markdown",
   "id": "9e4ce09a",
   "metadata": {},
   "source": [
    "10.Write  a  program  that  accepts  a comma-separated sequence  of  words  as  input and  prints  the  words  in  a  comma-separated  sequence  after  sorting  them alphabetically. \n",
    "Suppose the following input is supplied to the program:without,hello,bag,world Then, \n",
    "the output should be:bag,hello,without,world"
   ]
  },
  {
   "cell_type": "code",
   "execution_count": 3,
   "id": "01d551b8",
   "metadata": {},
   "outputs": [
    {
     "name": "stdout",
     "output_type": "stream",
     "text": [
      "Enter a comma-separated sequence of words: without,hello,bag,world\n",
      "The output of the program is: bag,hello,without,world\n"
     ]
    }
   ],
   "source": [
    "# Accept comma-separated input\n",
    "input_sequence = input(r\"Enter a comma-separated sequence of words: \")\n",
    "\n",
    "# Split the input into a list of words\n",
    "words = [word.strip() for word in input_sequence.split(',')]\n",
    "\n",
    "# Sort the words alphabetically\n",
    "sorted_words = sorted(words)\n",
    "\n",
    "# Print the sorted words in a comma-separated sequence\n",
    "output_sequence = \",\".join(sorted_words)\n",
    "print(\"The output of the program is:\", output_sequence)\n"
   ]
  },
  {
   "cell_type": "markdown",
   "id": "29c1a23f",
   "metadata": {},
   "source": [
    "11.Write  a  program  that  accepts a sequence  of  lines  as  input  and  prints  the  lines after making all characters in the sentence capitalized. Suppose the following input is supplied to the program:•Hello world•Practice makes perfectThen, the output should be:•HELLO WORLD•PRACTICE MAKES PERFECT"
   ]
  },
  {
   "cell_type": "code",
   "execution_count": 5,
   "id": "7254b12a",
   "metadata": {},
   "outputs": [
    {
     "name": "stdout",
     "output_type": "stream",
     "text": [
      "Enter a line (or 'done' to finish): hello world\n",
      "Enter a line (or 'done' to finish): done\n",
      "HELLO WORLD\n"
     ]
    }
   ],
   "source": [
    "# Accept a sequence of lines as input\n",
    "lines = []\n",
    "while True:\n",
    "    line = input(\"Enter a line (or 'done' to finish): \")\n",
    "    if line.lower() == 'done':\n",
    "        break\n",
    "    lines.append(line)\n",
    "\n",
    "# Convert each line to uppercase and print\n",
    "for line in lines:\n",
    "    print(line.upper())\n"
   ]
  },
  {
   "cell_type": "markdown",
   "id": "546c9869",
   "metadata": {},
   "source": [
    "12.Write  a  program  that  accepts  a  sequence  of whitespace-separatedwords  as input and prints the words after removing all duplicate words and sorting them alphanumerically. Suppose the following input is supplied to the program:hello world and practice makes perfect and hello world againThen, the output should be:again and hello makes perfect practice world"
   ]
  },
  {
   "cell_type": "code",
   "execution_count": 9,
   "id": "bf67d607",
   "metadata": {},
   "outputs": [
    {
     "name": "stdout",
     "output_type": "stream",
     "text": [
      "Enter a sequence of words: hello world and practice makes perfect and hello world again\n",
      "The output of the program is: again and hello makes perfect practice world\n"
     ]
    }
   ],
   "source": [
    "# Accept a sequence of whitespace-separated words as input\n",
    "input_sequence = input(\"Enter a sequence of words: \")\n",
    "\n",
    "# Split the input into a list of words\n",
    "words = input_sequence.split()\n",
    "\n",
    "# Remove duplicates and sort the words alphanumerically\n",
    "unique_sorted_words = sorted(set(words))\n",
    "\n",
    "# Print the result\n",
    "output_sequence = \" \".join(unique_sorted_words)\n",
    "print(\"The output of the program is:\", output_sequence)\n"
   ]
  },
  {
   "cell_type": "markdown",
   "id": "2c0478b9",
   "metadata": {},
   "source": [
    "13.Write  a  program thataccepts  a  sequence  of comma-separated4-digitbinary numbers as its input and then check whether they are divisible by 5 or not. The numbers  that  are  divisible  by  5  are  to  be  printed  in  a comma-separatedsequence.Example0100,0011,1010,1001Then the output should be:1010"
   ]
  },
  {
   "cell_type": "code",
   "execution_count": 10,
   "id": "c38cdaea",
   "metadata": {},
   "outputs": [
    {
     "name": "stdout",
     "output_type": "stream",
     "text": [
      "Enter a sequence of comma-separated 4-digit binary numbers: 0100,0011,1010,1001\n",
      "The numbers divisible by 5 are: 1010\n"
     ]
    }
   ],
   "source": [
    "# Accept a sequence of comma-separated 4-digit binary numbers as input\n",
    "input_sequence = input(\"Enter a sequence of comma-separated 4-digit binary numbers: \")\n",
    "\n",
    "# Split the input into a list of binary numbers\n",
    "binary_numbers = input_sequence.split(',')\n",
    "\n",
    "# Initialize an empty list to store divisible numbers\n",
    "divisible_by_5 = []\n",
    "\n",
    "# Check each binary number for divisibility by 5\n",
    "for binary_number in binary_numbers:\n",
    "    decimal_number = int(binary_number, 2)\n",
    "    if decimal_number % 5 == 0:\n",
    "        divisible_by_5.append(binary_number)\n",
    "\n",
    "# Print the result\n",
    "output_sequence = \",\".join(divisible_by_5)\n",
    "print(\"The numbers divisible by 5 are:\", output_sequence)\n"
   ]
  },
  {
   "cell_type": "markdown",
   "id": "a8848179",
   "metadata": {},
   "source": [
    "14.Write a program that accepts a sentence and calculatethe number of upper-caseletters and lower-caseletters.Suppose the following input is supplied to the program:Hello world!"
   ]
  },
  {
   "cell_type": "code",
   "execution_count": 11,
   "id": "7b9fd48b",
   "metadata": {},
   "outputs": [
    {
     "name": "stdout",
     "output_type": "stream",
     "text": [
      "Enter a sentence: Hello world!\n",
      "Number of uppercase letters: 1\n",
      "Number of lowercase letters: 9\n"
     ]
    }
   ],
   "source": [
    "# Accept a sentence as input\n",
    "sentence = input(\"Enter a sentence: \")\n",
    "\n",
    "# Initialize counters for uppercase and lowercase letters\n",
    "uppercase_count = 0\n",
    "lowercase_count = 0\n",
    "\n",
    "# Iterate through each character in the sentence\n",
    "for char in sentence:\n",
    "    # Check if the character is an uppercase letter\n",
    "    if char.isupper():\n",
    "        uppercase_count += 1\n",
    "    # Check if the character is a lowercase letter\n",
    "    elif char.islower():\n",
    "        lowercase_count += 1\n",
    "\n",
    "# Print the results\n",
    "print(\"Number of uppercase letters:\", uppercase_count)\n",
    "print(\"Number of lowercase letters:\", lowercase_count)\n"
   ]
  },
  {
   "cell_type": "markdown",
   "id": "c19cb42f",
   "metadata": {},
   "source": [
    "15.Give an example of fsum and sum function of math library"
   ]
  },
  {
   "cell_type": "code",
   "execution_count": 12,
   "id": "9f9d653e",
   "metadata": {},
   "outputs": [
    {
     "name": "stdout",
     "output_type": "stream",
     "text": [
      "Result using fsum(): 1.5\n"
     ]
    }
   ],
   "source": [
    "import math\n",
    "\n",
    "# List of floating-point numbers\n",
    "numbers = [0.1, 0.2, 0.3, 0.4, 0.5]\n",
    "\n",
    "# Calculate the sum using fsum()\n",
    "result_fsum = math.fsum(numbers)\n",
    "\n",
    "# Print the result\n",
    "print(\"Result using fsum():\", result_fsum)\n"
   ]
  },
  {
   "cell_type": "code",
   "execution_count": null,
   "id": "c383d9d1",
   "metadata": {},
   "outputs": [],
   "source": []
  }
 ],
 "metadata": {
  "kernelspec": {
   "display_name": "Python 3 (ipykernel)",
   "language": "python",
   "name": "python3"
  },
  "language_info": {
   "codemirror_mode": {
    "name": "ipython",
    "version": 3
   },
   "file_extension": ".py",
   "mimetype": "text/x-python",
   "name": "python",
   "nbconvert_exporter": "python",
   "pygments_lexer": "ipython3",
   "version": "3.10.9"
  }
 },
 "nbformat": 4,
 "nbformat_minor": 5
}
