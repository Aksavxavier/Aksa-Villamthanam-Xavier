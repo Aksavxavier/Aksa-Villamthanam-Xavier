{
 "cells": [
  {
   "cell_type": "markdown",
   "id": "0643b3a3",
   "metadata": {},
   "source": [
    "1.Extract data from the givenSalaryGender CSV fileand store the data from each column in a separate NumPy array."
   ]
  },
  {
   "cell_type": "code",
   "execution_count": 5,
   "id": "57b5a95a",
   "metadata": {},
   "outputs": [
    {
     "name": "stdout",
     "output_type": "stream",
     "text": [
      "Salary array:\n",
      "[140.    30.    35.1   30.    80.    30.    60.    31.1  125.    51.\n",
      "   3.    46.   150.     3.   130.    15.   130.    84.   190.    74.\n",
      "  73.    10.    50.     7.     9.5   15.2   28.6   20.    72.    81.\n",
      " 100.    90.    90.    35.    30.    25.    52.     9.    63.    72.\n",
      "  16.    92.   106.     2.5    9.    32.    32.    55.    52.    28.\n",
      "  20.    14.7   22.3   34.8   84.    19.   160.    65.    55.     4.6\n",
      " 102.    20.    62.    55.    45.6   40.    24.    35.    48.    20.\n",
      "  40.7   15.     0.25 152.    39.8   12.    30.   120.     1.7   36.\n",
      "  96.    38.    90.     9.    25.8   22.    38.8   72.    89.    41.\n",
      "  89.    25.    52.   115.    66.    18.6  152.     1.8   35.     4.  ]\n",
      "\n",
      "Gender array:\n",
      "[1 0 0 1 0 0 1 0 1 1 1 1 1 1 1 0 1 0 1 1 0 0 0 0 0 1 1 0 0 1 0 0 0 1 0 1 0\n",
      " 0 1 1 1 0 1 1 0 0 0 1 1 0 0 0 1 0 0 1 1 0 0 1 1 1 0 1 1 0 0 1 0 0 0 1 0 1\n",
      " 0 0 1 1 1 1 1 0 1 1 0 0 0 1 1 0 1 0 1 0 0 1 1 1 0 0]\n",
      "\n",
      "Age array:\n",
      "[47 65 56 23 53 27 53 30 44 63 22 59 60 28 65 25 65 47 66 45 46 24 60 63\n",
      " 27 66 36 30 51 65 45 52 54 30 52 26 49 22 34 60 28 58 77 67 27 48 45 49\n",
      " 36 65 32 49 67 22 49 43 61 43 52 51 66 29 62 56 61 56 41 24 60 43 57 23\n",
      " 53 71 20 27 69 58 37 32 33 32 60 71 30 62 54 42 62 51 71 29 55 54 55 26\n",
      " 56 28 44 24]\n",
      "\n",
      "PhD array:\n",
      "[1 1 0 0 1 0 0 0 1 1 0 0 1 0 0 0 0 1 1 1 0 0 0 0 0 1 1 0 1 1 1 1 1 0 0 0 0\n",
      " 0 1 0 0 1 1 0 0 1 0 1 0 1 0 0 0 0 1 0 1 1 0 0 1 0 0 1 0 0 0 0 0 0 0 0 0 1\n",
      " 0 0 1 1 0 1 1 1 0 0 0 0 0 1 0 1 1 0 1 0 1 0 1 0 0 0]\n"
     ]
    }
   ],
   "source": [
    "import numpy as np\n",
    "\n",
    "# Load data from the CSV file\n",
    "file_path = r\"/Users/aksavxavier/Desktop/SalaryGender_3b3js.csv\"  \n",
    "data = np.genfromtxt(file_path, delimiter=',', names=True, dtype=None)\n",
    "\n",
    "# Extract data from each column\n",
    "salary = data['Salary']\n",
    "gender = data['Gender']\n",
    "age = data['Age']\n",
    "phd = data['PhD']\n",
    "\n",
    "# Print the extracted data\n",
    "print(\"Salary array:\")\n",
    "print(salary)\n",
    "\n",
    "print(\"\\nGender array:\")\n",
    "print(gender)\n",
    "\n",
    "print(\"\\nAge array:\")\n",
    "print(age)\n",
    "\n",
    "print(\"\\nPhD array:\")\n",
    "print(phd);\n"
   ]
  },
  {
   "cell_type": "markdown",
   "id": "d4a8b157",
   "metadata": {},
   "source": [
    "2.Find:\n",
    "1. The number of men with a Ph.D.\n",
    "2. The number of women with a Ph.D."
   ]
  },
  {
   "cell_type": "code",
   "execution_count": 8,
   "id": "cabf230a",
   "metadata": {},
   "outputs": [
    {
     "name": "stdout",
     "output_type": "stream",
     "text": [
      "Number of men with a Ph.D.: 0\n",
      "Number of women with a Ph.D.: 0\n"
     ]
    },
    {
     "name": "stderr",
     "output_type": "stream",
     "text": [
      "/var/folders/xd/j94637p953s5wh10jyypd0j00000gn/T/ipykernel_17527/2448268619.py:12: FutureWarning: elementwise comparison failed; returning scalar instead, but in the future will perform elementwise comparison\n",
      "  men_with_phd = np.sum((gender == b'M') & (phd == 1))\n",
      "/var/folders/xd/j94637p953s5wh10jyypd0j00000gn/T/ipykernel_17527/2448268619.py:15: FutureWarning: elementwise comparison failed; returning scalar instead, but in the future will perform elementwise comparison\n",
      "  women_with_phd = np.sum((gender == b'F') & (phd == 1))\n"
     ]
    }
   ],
   "source": [
    "import numpy as np\n",
    "\n",
    "# Load data from the CSV file\n",
    "file_path =r\"/Users/aksavxavier/Desktop/SalaryGender_3b3js.csv\"\n",
    "data = np.genfromtxt(file_path, delimiter=',', names=True, dtype=None)\n",
    "\n",
    "# Extract 'Gender' and 'PhD' columns\n",
    "gender = data['Gender']\n",
    "phd = data['PhD']\n",
    "\n",
    "# Find the number of men with a Ph.D.\n",
    "men_with_phd = np.sum((gender == b'M') & (phd == 1))\n",
    "\n",
    "# Find the number of women with a Ph.D.\n",
    "women_with_phd = np.sum((gender == b'F') & (phd == 1))\n",
    "\n",
    "# Print the results\n",
    "print(\"Number of men with a Ph.D.:\", men_with_phd)\n",
    "print(\"Number of women with a Ph.D.:\", women_with_phd)\n"
   ]
  },
  {
   "cell_type": "markdown",
   "id": "080d537a",
   "metadata": {},
   "source": [
    "3.Store the \"Age\"and \"Ph.D.\"columns in one DataFrame and delete the data of all people who don't have a Ph.D.from the SalaryGender CSV file"
   ]
  },
  {
   "cell_type": "code",
   "execution_count": 10,
   "id": "fb60d1df",
   "metadata": {},
   "outputs": [
    {
     "name": "stdout",
     "output_type": "stream",
     "text": [
      "    Age  PhD\n",
      "0    47    1\n",
      "1    65    1\n",
      "4    53    1\n",
      "8    44    1\n",
      "9    63    1\n",
      "12   60    1\n",
      "17   47    1\n",
      "18   66    1\n",
      "19   45    1\n",
      "25   66    1\n",
      "26   36    1\n",
      "28   51    1\n",
      "29   65    1\n",
      "30   45    1\n",
      "31   52    1\n",
      "32   54    1\n",
      "38   34    1\n",
      "41   58    1\n",
      "42   77    1\n",
      "45   48    1\n",
      "47   49    1\n",
      "49   65    1\n",
      "54   49    1\n",
      "56   61    1\n",
      "57   43    1\n",
      "60   66    1\n",
      "63   56    1\n",
      "73   71    1\n",
      "76   69    1\n",
      "77   58    1\n",
      "79   32    1\n",
      "80   33    1\n",
      "81   32    1\n",
      "87   42    1\n",
      "89   51    1\n",
      "90   71    1\n",
      "92   55    1\n",
      "94   55    1\n",
      "96   56    1\n"
     ]
    }
   ],
   "source": [
    "import pandas as pd\n",
    "import numpy as np\n",
    "\n",
    "# Load data from the CSV file into a DataFrame\n",
    "file_path = r\"/Users/aksavxavier/Desktop/SalaryGender_3b3js.csv\"\n",
    "df = pd.read_csv(file_path)\n",
    "\n",
    "# Filter out rows where individuals don't have a Ph.D.\n",
    "df_with_phd = df[df['PhD'] == 1]\n",
    "\n",
    "# Select and display the \"Age\" and \"Ph.D.\" columns\n",
    "selected_columns = df_with_phd[['Age', 'PhD']]\n",
    "print(selected_columns)\n"
   ]
  },
  {
   "cell_type": "markdown",
   "id": "114bd49a",
   "metadata": {},
   "source": [
    "5.Calculate the total number of people who have a Ph.D.degree from the SalaryGender CSV file."
   ]
  },
  {
   "cell_type": "code",
   "execution_count": 11,
   "id": "d94a6a1b",
   "metadata": {},
   "outputs": [
    {
     "name": "stdout",
     "output_type": "stream",
     "text": [
      "Total number of people with a Ph.D. degree: 39\n"
     ]
    }
   ],
   "source": [
    "import pandas as pd\n",
    "\n",
    "# Load data from the CSV file into a DataFrame\n",
    "file_path = r\"/Users/aksavxavier/Desktop/SalaryGender_3b3js.csv\" \n",
    "df = pd.read_csv(file_path)\n",
    "\n",
    "# Count the number of people with a Ph.D.\n",
    "total_phd_count = df[df['PhD'] == 1].shape[0]\n",
    "\n",
    "# Print the result\n",
    "print(\"Total number of people with a Ph.D. degree:\", total_phd_count)\n"
   ]
  },
  {
   "cell_type": "markdown",
   "id": "e5577ba2",
   "metadata": {},
   "source": [
    "6.How  do  you count the frequency  ofeach  value  appearingin the  givenarray  of integers?[0, 5, 4, 0, 4, 4, 3, 0, 0, 5, 2, 1, 1, 9]Answer:array([4, 2, 1, 1, 3, 2, 0, 0, 0, 1]) which means 0 comes 4 times, 1 comes 2 times, 2 comes 1 time, 3 comes 1 time and so on."
   ]
  },
  {
   "cell_type": "code",
   "execution_count": 12,
   "id": "7366284c",
   "metadata": {},
   "outputs": [
    {
     "name": "stdout",
     "output_type": "stream",
     "text": [
      "[4 2 1 1 3 2 0 0 0 1]\n"
     ]
    }
   ],
   "source": [
    "import numpy as np\n",
    "\n",
    "# Given array\n",
    "arr = np.array([0, 5, 4, 0, 4, 4, 3, 0, 0, 5, 2, 1, 1, 9])\n",
    "\n",
    "# Count the frequency of each value\n",
    "values, counts = np.unique(arr, return_counts=True)\n",
    "\n",
    "# Create a new array representing the frequency of each value\n",
    "result = np.zeros(np.max(arr) + 1, dtype=int)\n",
    "result[values] = counts\n",
    "\n",
    "print(result)\n"
   ]
  },
  {
   "cell_type": "markdown",
   "id": "12482465",
   "metadata": {},
   "source": [
    "6.Create a NumPyarray [[0, 1, 2],[ 3, 4, 5],[ 6, 7, 8],[ 9,10, 11]]) and filter the elements greater than 5"
   ]
  },
  {
   "cell_type": "code",
   "execution_count": 13,
   "id": "7129e3db",
   "metadata": {},
   "outputs": [
    {
     "name": "stdout",
     "output_type": "stream",
     "text": [
      "Original array:\n",
      "[[ 0  1  2]\n",
      " [ 3  4  5]\n",
      " [ 6  7  8]\n",
      " [ 9 10 11]]\n",
      "\n",
      "Filtered elements greater than 5:\n",
      "[ 6  7  8  9 10 11]\n"
     ]
    }
   ],
   "source": [
    "import numpy as np\n",
    "\n",
    "# Create a NumPy array\n",
    "arr = np.array([[0, 1, 2],\n",
    "                [3, 4, 5],\n",
    "                [6, 7, 8],\n",
    "                [9, 10, 11]])\n",
    "\n",
    "# Filter elements greater than 5\n",
    "filtered_elements = arr[arr > 5]\n",
    "\n",
    "print(\"Original array:\")\n",
    "print(arr)\n",
    "\n",
    "print(\"\\nFiltered elements greater than 5:\")\n",
    "print(filtered_elements)\n"
   ]
  },
  {
   "cell_type": "markdown",
   "id": "beda99b6",
   "metadata": {},
   "source": [
    "7.Create a NumPy array having NaN (Not a Number) and print it.array([ nan,   1.,   2.,  NaN,   3.,   4.,   5.]\n",
    "Print the same array omitting all elements,which are NaN."
   ]
  },
  {
   "cell_type": "code",
   "execution_count": 15,
   "id": "527dd250",
   "metadata": {},
   "outputs": [
    {
     "name": "stdout",
     "output_type": "stream",
     "text": [
      "[1. 2. 3. 4. 5.]\n"
     ]
    }
   ],
   "source": [
    "import numpy as np\n",
    "\n",
    "# Create a NumPy array with NaN values\n",
    "my_array = np.array([np.nan, 1., 2., np.nan, 3., 4., 5.])\n",
    "\n",
    "# Omit NaN elements\n",
    "array_without_nan = my_array[~np.isnan(my_array)]\n",
    "\n",
    "# Print the array without NaN elements\n",
    "print(array_without_nan)\n"
   ]
  },
  {
   "cell_type": "markdown",
   "id": "fed19b78",
   "metadata": {},
   "source": [
    "8.Create  a  10x10  array  with  random  values  and  find  the  minimum  and  maximum values."
   ]
  },
  {
   "cell_type": "code",
   "execution_count": 16,
   "id": "de05491d",
   "metadata": {},
   "outputs": [
    {
     "name": "stdout",
     "output_type": "stream",
     "text": [
      "Random Array:\n",
      "[[0.10044456 0.37177933 0.48716443 0.58707046 0.87516386 0.62932209\n",
      "  0.242637   0.05715189 0.793856   0.50882521]\n",
      " [0.84984382 0.60836747 0.0383905  0.91541087 0.28648159 0.39415631\n",
      "  0.40850493 0.1674138  0.00958766 0.33665836]\n",
      " [0.61339143 0.72565677 0.48648675 0.9944583  0.61027943 0.80404215\n",
      "  0.9330414  0.44190168 0.24294202 0.75053883]\n",
      " [0.50430952 0.02298165 0.38804722 0.32366574 0.04151786 0.37695886\n",
      "  0.20266814 0.43045283 0.37373937 0.81891006]\n",
      " [0.73335995 0.49348991 0.77820985 0.63720733 0.37016489 0.91375146\n",
      "  0.43186398 0.44433259 0.86772977 0.00112517]\n",
      " [0.94612239 0.47686093 0.8304463  0.10587907 0.18054444 0.40836027\n",
      "  0.53497334 0.14956195 0.34639731 0.96300994]\n",
      " [0.3960893  0.02789228 0.599034   0.11226171 0.39219156 0.75333665\n",
      "  0.46667765 0.91688354 0.7155584  0.95770228]\n",
      " [0.16354263 0.02188221 0.13553119 0.09474906 0.29185906 0.83143055\n",
      "  0.37491352 0.20407789 0.44334233 0.29122092]\n",
      " [0.16154025 0.71977089 0.35640563 0.66680406 0.75560387 0.99746522\n",
      "  0.59931507 0.52778062 0.20311237 0.63947117]\n",
      " [0.89847759 0.79783639 0.727523   0.41405618 0.18253543 0.75131765\n",
      "  0.31936282 0.84197471 0.56748924 0.50332245]]\n",
      "\n",
      "Minimum Value: 0.0011251671607066527\n",
      "Maximum Value: 0.997465220331831\n"
     ]
    }
   ],
   "source": [
    "import numpy as np\n",
    "\n",
    "# Create a 10x10 array with random values\n",
    "random_array = np.random.rand(10, 10)\n",
    "\n",
    "# Find the minimum and maximum values\n",
    "min_value = np.min(random_array)\n",
    "max_value = np.max(random_array)\n",
    "\n",
    "# Print the array and the minimum and maximum values\n",
    "print(\"Random Array:\")\n",
    "print(random_array)\n",
    "print(\"\\nMinimum Value:\", min_value)\n",
    "print(\"Maximum Value:\", max_value)\n"
   ]
  },
  {
   "cell_type": "markdown",
   "id": "c4c4a3c5",
   "metadata": {},
   "source": [
    "9.Create a random vector of size 30 and find the mean value."
   ]
  },
  {
   "cell_type": "code",
   "execution_count": 17,
   "id": "cd83b32f",
   "metadata": {},
   "outputs": [
    {
     "name": "stdout",
     "output_type": "stream",
     "text": [
      "Random Vector:\n",
      "[0.25674772 0.40365799 0.87436274 0.42879394 0.8532181  0.01144819\n",
      " 0.99202412 0.68652249 0.39406503 0.98174599 0.72291511 0.91159466\n",
      " 0.68233907 0.09224549 0.82563739 0.63599531 0.67902659 0.75137282\n",
      " 0.39522985 0.81022406 0.20398938 0.94335348 0.68195097 0.72218062\n",
      " 0.39057876 0.35389678 0.22154171 0.56292892 0.76561332 0.72456708]\n",
      "\n",
      "Mean Value: 0.5986589222678264\n"
     ]
    }
   ],
   "source": [
    "import numpy as np\n",
    "\n",
    "# Create a random vector of size 30\n",
    "random_vector = np.random.rand(30)\n",
    "\n",
    "# Find the mean value\n",
    "mean_value = np.mean(random_vector)\n",
    "\n",
    "# Print the random vector and the mean value\n",
    "print(\"Random Vector:\")\n",
    "print(random_vector)\n",
    "print(\"\\nMean Value:\", mean_value)\n"
   ]
  },
  {
   "cell_type": "markdown",
   "id": "c004679a",
   "metadata": {},
   "source": [
    "10.Create a NumPyarray  having  elements  0  to  10  And  negate  all  the  elements between 3 and 9."
   ]
  },
  {
   "cell_type": "code",
   "execution_count": 18,
   "id": "b816d481",
   "metadata": {},
   "outputs": [
    {
     "name": "stdout",
     "output_type": "stream",
     "text": [
      "[ 0  1  2 -3 -4 -5 -6 -7 -8 -9 10]\n"
     ]
    }
   ],
   "source": [
    "import numpy as np\n",
    "\n",
    "# Create a NumPy array with elements 0 to 10\n",
    "my_array = np.arange(11)\n",
    "\n",
    "# Negate elements between 3 and 9\n",
    "my_array[(my_array >= 3) & (my_array <= 9)] *= -1\n",
    "\n",
    "# Print the modified array\n",
    "print(my_array)\n"
   ]
  },
  {
   "cell_type": "markdown",
   "id": "e39bc387",
   "metadata": {},
   "source": [
    "11.Create a random array of 3 rows and 3 columns and sort it according to the first, second,or third column."
   ]
  },
  {
   "cell_type": "code",
   "execution_count": 19,
   "id": "047e001f",
   "metadata": {},
   "outputs": [
    {
     "name": "stdout",
     "output_type": "stream",
     "text": [
      "Original Array:\n",
      "[[0.0502277  0.29192561 0.91103763]\n",
      " [0.30987765 0.83395648 0.47804929]\n",
      " [0.76492947 0.33785727 0.859575  ]]\n",
      "\n",
      "Sorted by the first column:\n",
      "[[0.0502277  0.29192561 0.91103763]\n",
      " [0.30987765 0.83395648 0.47804929]\n",
      " [0.76492947 0.33785727 0.859575  ]]\n",
      "\n",
      "Sorted by the second column:\n",
      "[[0.0502277  0.29192561 0.91103763]\n",
      " [0.76492947 0.33785727 0.859575  ]\n",
      " [0.30987765 0.83395648 0.47804929]]\n",
      "\n",
      "Sorted by the third column:\n",
      "[[0.30987765 0.83395648 0.47804929]\n",
      " [0.76492947 0.33785727 0.859575  ]\n",
      " [0.0502277  0.29192561 0.91103763]]\n"
     ]
    }
   ],
   "source": [
    "import numpy as np\n",
    "\n",
    "# Create a random array of 3x3\n",
    "random_array = np.random.rand(3, 3)\n",
    "\n",
    "# Print the original array\n",
    "print(\"Original Array:\")\n",
    "print(random_array)\n",
    "\n",
    "# Sort based on the first column\n",
    "sorted_array_first_col = random_array[random_array[:, 0].argsort()]\n",
    "print(\"\\nSorted by the first column:\")\n",
    "print(sorted_array_first_col)\n",
    "\n",
    "# Sort based on the second column\n",
    "sorted_array_second_col = random_array[random_array[:, 1].argsort()]\n",
    "print(\"\\nSorted by the second column:\")\n",
    "print(sorted_array_second_col)\n",
    "\n",
    "# Sort based on the third column\n",
    "sorted_array_third_col = random_array[random_array[:, 2].argsort()]\n",
    "print(\"\\nSorted by the third column:\")\n",
    "print(sorted_array_third_col)\n"
   ]
  },
  {
   "cell_type": "markdown",
   "id": "b0a7647f",
   "metadata": {},
   "source": [
    "12.Create a four dimensions arraytogetthesum over the last two axes at once."
   ]
  },
  {
   "cell_type": "code",
   "execution_count": 21,
   "id": "c9406eb5",
   "metadata": {},
   "outputs": [
    {
     "name": "stdout",
     "output_type": "stream",
     "text": [
      "Original 4D Array:\n",
      "[[[[0.31235119 0.33904325 0.10907965]\n",
      "   [0.47641954 0.65030866 0.34411788]\n",
      "   [0.38829603 0.2717021  0.61723637]]\n",
      "\n",
      "  [[0.13029551 0.00147652 0.51521796]\n",
      "   [0.61597157 0.62252922 0.35874101]\n",
      "   [0.97413819 0.83115454 0.82140025]]\n",
      "\n",
      "  [[0.36119198 0.49336039 0.36951153]\n",
      "   [0.0945636  0.07308761 0.79978506]\n",
      "   [0.57928715 0.55455549 0.76095926]]]\n",
      "\n",
      "\n",
      " [[[0.40399696 0.79401698 0.13724302]\n",
      "   [0.69702943 0.57050152 0.9074945 ]\n",
      "   [0.98046257 0.23795704 0.51246468]]\n",
      "\n",
      "  [[0.22033375 0.53537089 0.75934246]\n",
      "   [0.56885736 0.94344241 0.39226933]\n",
      "   [0.5100279  0.22108054 0.94504524]]\n",
      "\n",
      "  [[0.42938999 0.1293856  0.10367195]\n",
      "   [0.14108475 0.92983536 0.54163603]\n",
      "   [0.81594264 0.18903738 0.40349333]]]\n",
      "\n",
      "\n",
      " [[[0.34910243 0.37852155 0.11605783]\n",
      "   [0.10438546 0.56739463 0.40798925]\n",
      "   [0.49183317 0.22672384 0.75167559]]\n",
      "\n",
      "  [[0.91486276 0.14405868 0.47605345]\n",
      "   [0.90698906 0.37464709 0.46986964]\n",
      "   [0.66240125 0.91829732 0.01215603]]\n",
      "\n",
      "  [[0.17531107 0.2868099  0.92177808]\n",
      "   [0.01886164 0.29698404 0.29478548]\n",
      "   [0.40622545 0.46701431 0.17319378]]]]\n",
      "\n",
      "Sum over the last two axes at once:\n",
      "[[3.50855468 4.87092477 4.08630208]\n",
      " [5.24116671 5.09576989 3.68347703]\n",
      " [3.39368375 4.87933529 3.04096374]]\n"
     ]
    }
   ],
   "source": [
    "import numpy as np\n",
    "\n",
    "# Create a 4D array (3x3x3x3)\n",
    "four_dimensions_array = np.random.rand(3, 3, 3, 3)\n",
    "\n",
    "# Print the original array\n",
    "print(\"Original 4D Array:\")\n",
    "print(four_dimensions_array)\n",
    "\n",
    "# Calculate the sum over the last two axes at once\n",
    "sum_last_two_axes = np.sum(four_dimensions_array, axis=(-2, -1))\n",
    "\n",
    "# Print the result\n",
    "print(\"\\nSum over the last two axes at once:\")\n",
    "print(sum_last_two_axes)\n"
   ]
  },
  {
   "cell_type": "markdown",
   "id": "57668212",
   "metadata": {},
   "source": [
    "13.Create a random array and swap two rows of an array."
   ]
  },
  {
   "cell_type": "code",
   "execution_count": 23,
   "id": "4dbdf2f3",
   "metadata": {},
   "outputs": [
    {
     "name": "stdout",
     "output_type": "stream",
     "text": [
      "Original Array:\n",
      "[[0.48330356 0.84663732 0.74016219 0.95863498]\n",
      " [0.01283555 0.10441948 0.10446509 0.37300182]\n",
      " [0.57325292 0.02898498 0.53173046 0.04313106]\n",
      " [0.68983895 0.74254967 0.3839286  0.70853258]]\n",
      "\n",
      "Array after swapping rows:\n",
      "[[0.48330356 0.84663732 0.74016219 0.95863498]\n",
      " [0.68983895 0.74254967 0.3839286  0.70853258]\n",
      " [0.57325292 0.02898498 0.53173046 0.04313106]\n",
      " [0.01283555 0.10441948 0.10446509 0.37300182]]\n"
     ]
    }
   ],
   "source": [
    "import numpy as np\n",
    "\n",
    "# Create a random array (4x4 for example)\n",
    "random_array = np.random.rand(4, 4)\n",
    "\n",
    "# Print the original array\n",
    "print(\"Original Array:\")\n",
    "print(random_array)\n",
    "\n",
    "# Choose two rows to swap (e.g., row 1 and row 3)\n",
    "row_to_swap1 = 1\n",
    "row_to_swap2 = 3\n",
    "\n",
    "# Swap the rows\n",
    "random_array[[row_to_swap1, row_to_swap2], :] = random_array[[row_to_swap2, row_to_swap1], :]\n",
    "\n",
    "# Print the array after swapping rows\n",
    "print(\"\\nArray after swapping rows:\")\n",
    "print(random_array)\n"
   ]
  },
  {
   "cell_type": "code",
   "execution_count": null,
   "id": "fe71ba90",
   "metadata": {},
   "outputs": [],
   "source": [
    "14.Create a random matrix and compute the matrix rank."
   ]
  },
  {
   "cell_type": "code",
   "execution_count": 24,
   "id": "c3f89abe",
   "metadata": {},
   "outputs": [
    {
     "name": "stdout",
     "output_type": "stream",
     "text": [
      "Original Matrix:\n",
      "[[0.76506974 0.92863818 0.57259049 0.69919488]\n",
      " [0.59809332 0.42881199 0.34949616 0.21632574]\n",
      " [0.62387747 0.4925419  0.79807877 0.59541567]\n",
      " [0.59460981 0.35601425 0.63785995 0.57209803]]\n",
      "\n",
      "Matrix Rank: 4\n"
     ]
    }
   ],
   "source": [
    "import numpy as np\n",
    "\n",
    "# Create a random matrix (4x4 for example)\n",
    "random_matrix = np.random.rand(4, 4)\n",
    "\n",
    "# Print the original matrix\n",
    "print(\"Original Matrix:\")\n",
    "print(random_matrix)\n",
    "\n",
    "# Compute the matrix rank\n",
    "matrix_rank = np.linalg.matrix_rank(random_matrix)\n",
    "\n",
    "# Print the matrix rank\n",
    "print(\"\\nMatrix Rank:\", matrix_rank)\n"
   ]
  },
  {
   "cell_type": "code",
   "execution_count": null,
   "id": "7249a433",
   "metadata": {},
   "outputs": [],
   "source": []
  }
 ],
 "metadata": {
  "kernelspec": {
   "display_name": "Python 3 (ipykernel)",
   "language": "python",
   "name": "python3"
  },
  "language_info": {
   "codemirror_mode": {
    "name": "ipython",
    "version": 3
   },
   "file_extension": ".py",
   "mimetype": "text/x-python",
   "name": "python",
   "nbconvert_exporter": "python",
   "pygments_lexer": "ipython3",
   "version": "3.10.9"
  }
 },
 "nbformat": 4,
 "nbformat_minor": 5
}
