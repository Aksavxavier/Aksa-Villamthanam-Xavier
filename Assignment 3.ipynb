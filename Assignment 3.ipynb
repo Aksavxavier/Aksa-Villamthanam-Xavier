{
 "cells": [
  {
   "cell_type": "markdown",
   "id": "b1103fbd",
   "metadata": {},
   "source": [
    "1.Create a dog object that will inherit all the variables and methods of the parent class Animal and display it."
   ]
  },
  {
   "cell_type": "code",
   "execution_count": 1,
   "id": "5c2d3cd4",
   "metadata": {},
   "outputs": [
    {
     "name": "stdout",
     "output_type": "stream",
     "text": [
      "Species: Canine\n",
      "Breed: Golden Retriever\n",
      "Woof! Woof!\n"
     ]
    }
   ],
   "source": [
    "class Animal:\n",
    "    def __init__(self, species):\n",
    "        self.species = species\n",
    "\n",
    "    def make_sound(self):\n",
    "        print(\"Generic animal sound\")\n",
    "\n",
    "class Dog(Animal):\n",
    "    def __init__(self, species, breed):\n",
    "        super().__init__(species)\n",
    "        self.breed = breed\n",
    "\n",
    "    def make_sound(self):\n",
    "        print(\"Woof! Woof!\")\n",
    "\n",
    "# Creating a Dog object\n",
    "my_dog = Dog(species=\"Canine\", breed=\"Golden Retriever\")\n",
    "\n",
    "# Accessing attributes from the parent class\n",
    "print(\"Species:\", my_dog.species)\n",
    "print(\"Breed:\", my_dog.breed)\n",
    "\n",
    "# Calling a method from the parent class\n",
    "my_dog.make_sound()\n"
   ]
  },
  {
   "cell_type": "markdown",
   "id": "6dfed517",
   "metadata": {},
   "source": [
    "2.Demonstrate the working of Polymorphism by creating two classes -Car and Bike. Display the information like name, color, and number of wheels."
   ]
  },
  {
   "cell_type": "code",
   "execution_count": 2,
   "id": "ff92f293",
   "metadata": {},
   "outputs": [
    {
     "name": "stdout",
     "output_type": "stream",
     "text": [
      "Name: Sedan, Color: Blue, Wheels: 4\n",
      "Name: Sports Bike, Color: Red, Wheels: 2\n"
     ]
    }
   ],
   "source": [
    "class Vehicle:\n",
    "    def __init__(self, name, color, wheels):\n",
    "        self.name = name\n",
    "        self.color = color\n",
    "        self.wheels = wheels\n",
    "\n",
    "    def display_info(self):\n",
    "        print(f\"Name: {self.name}, Color: {self.color}, Wheels: {self.wheels}\")\n",
    "\n",
    "\n",
    "class Car(Vehicle):\n",
    "    def __init__(self, name, color):\n",
    "        super().__init__(name, color, wheels=4)\n",
    "\n",
    "\n",
    "class Bike(Vehicle):\n",
    "    def __init__(self, name, color):\n",
    "        super().__init__(name, color, wheels=2)\n",
    "\n",
    "\n",
    "# Creating instances of Car and Bike\n",
    "my_car = Car(name=\"Sedan\", color=\"Blue\")\n",
    "my_bike = Bike(name=\"Sports Bike\", color=\"Red\")\n",
    "\n",
    "# Polymorphic method calls\n",
    "my_car.display_info()  # Calls display_info method of Car class\n",
    "my_bike.display_info()  # Calls display_info method of Bike class\n"
   ]
  },
  {
   "cell_type": "markdown",
   "id": "8bce4c55",
   "metadata": {},
   "source": [
    "3.Create a list of tuples containing the 5 planets of our solar system along with their moons as-earth having 1 moon, Jupiter having 79 moons, Saturnhaving 82 moons, Uranushaving 27 moons and Neptunehaving 14 moons.Sort the list according to the ascending number of moons along with the names of planet using Lambda function. Display both original and sorted list."
   ]
  },
  {
   "cell_type": "code",
   "execution_count": 3,
   "id": "b3456bed",
   "metadata": {},
   "outputs": [
    {
     "name": "stdout",
     "output_type": "stream",
     "text": [
      "Original List:\n",
      "Earth: 1 moons\n",
      "Jupiter: 79 moons\n",
      "Saturn: 82 moons\n",
      "Uranus: 27 moons\n",
      "Neptune: 14 moons\n",
      "\n",
      "Sorted List:\n",
      "Earth: 1 moons\n",
      "Neptune: 14 moons\n",
      "Uranus: 27 moons\n",
      "Jupiter: 79 moons\n",
      "Saturn: 82 moons\n"
     ]
    }
   ],
   "source": [
    "# Creating the list of tuples\n",
    "planets_moons = [\n",
    "    (\"Earth\", 1),\n",
    "    (\"Jupiter\", 79),\n",
    "    (\"Saturn\", 82),\n",
    "    (\"Uranus\", 27),\n",
    "    (\"Neptune\", 14),\n",
    "]\n",
    "\n",
    "# Displaying the original list\n",
    "print(\"Original List:\")\n",
    "for planet, moons in planets_moons:\n",
    "    print(f\"{planet}: {moons} moons\")\n",
    "\n",
    "# Sorting the list using a lambda function\n",
    "sorted_planets_moons = sorted(planets_moons, key=lambda x: (x[1], x[0]))\n",
    "\n",
    "# Displaying the sorted list\n",
    "print(\"\\nSorted List:\")\n",
    "for planet, moons in sorted_planets_moons:\n",
    "    print(f\"{planet}: {moons} moons\")\n"
   ]
  },
  {
   "cell_type": "markdown",
   "id": "8e11f955",
   "metadata": {},
   "source": [
    "4.Create two functions -fillup and use, which uses a global variable as tank. Use the global variable in both the functions to return the quantity of fuel present in the tank after filling up the tank and after using the fuel of the tank. Show the working of two functions only. It is not necessary to display the outputs."
   ]
  },
  {
   "cell_type": "code",
   "execution_count": 4,
   "id": "4678a988",
   "metadata": {},
   "outputs": [
    {
     "data": {
      "text/plain": [
       "35"
      ]
     },
     "execution_count": 4,
     "metadata": {},
     "output_type": "execute_result"
    }
   ],
   "source": [
    "# Global variable representing the fuel tank\n",
    "tank = 0\n",
    "\n",
    "# Function to fill up the tank\n",
    "def fillup(quantity):\n",
    "    global tank\n",
    "    tank += quantity\n",
    "    return tank\n",
    "\n",
    "# Function to use fuel from the tank\n",
    "def use(quantity):\n",
    "    global tank\n",
    "    if quantity <= tank:\n",
    "        tank -= quantity\n",
    "    else:\n",
    "        print(\"Not enough fuel in the tank.\")\n",
    "    return tank\n",
    "\n",
    "# Example usage:\n",
    "fillup(50)  # Filling up the tank with 50 units of fuel\n",
    "use(20)     # Using 20 units of fuel\n",
    "fillup(30)  # Filling up the tank with an additional 30 units of fuel\n",
    "use(25)     # Using 25 units of fuel\n"
   ]
  },
  {
   "cell_type": "markdown",
   "id": "6109036c",
   "metadata": {},
   "source": [
    "5.Write a program to depict the use of multiple inheritance. The program should contain 4 classes -class 4 should inherit from class 2 and class 3. Similarly, class 2 should inherit from class 1. Class 3 should inherit from class 1. Each class should have its own print statement."
   ]
  },
  {
   "cell_type": "code",
   "execution_count": 5,
   "id": "221fe312",
   "metadata": {},
   "outputs": [
    {
     "name": "stdout",
     "output_type": "stream",
     "text": [
      "This is Class1\n",
      "This is Class2\n",
      "This is Class3\n",
      "This is Class4\n"
     ]
    }
   ],
   "source": [
    "class Class1:\n",
    "    def display_class1(self):\n",
    "        print(\"This is Class1\")\n",
    "\n",
    "\n",
    "class Class2(Class1):\n",
    "    def display_class2(self):\n",
    "        print(\"This is Class2\")\n",
    "\n",
    "\n",
    "class Class3(Class1):\n",
    "    def display_class3(self):\n",
    "        print(\"This is Class3\")\n",
    "\n",
    "\n",
    "class Class4(Class2, Class3):\n",
    "    def display_class4(self):\n",
    "        print(\"This is Class4\")\n",
    "\n",
    "\n",
    "# Example usage:\n",
    "obj_class4 = Class4()\n",
    "\n",
    "# Methods from Class1\n",
    "obj_class4.display_class1()\n",
    "\n",
    "# Methods from Class2\n",
    "obj_class4.display_class2()\n",
    "\n",
    "# Methods from Class3\n",
    "obj_class4.display_class3()\n",
    "\n",
    "# Method from Class4\n",
    "obj_class4.display_class4()\n"
   ]
  },
  {
   "cell_type": "markdown",
   "id": "98043b5b",
   "metadata": {},
   "source": [
    "6.Use Getter and Setter method to set the name and age of a person. Moreover, get the name and age of the same person."
   ]
  },
  {
   "cell_type": "code",
   "execution_count": 6,
   "id": "7f420359",
   "metadata": {},
   "outputs": [
    {
     "name": "stdout",
     "output_type": "stream",
     "text": [
      "Name: John Doe\n",
      "Age: 25\n"
     ]
    }
   ],
   "source": [
    "class Person:\n",
    "    def __init__(self):\n",
    "        self._name = None  # Prefixing with '_' to indicate it's a protected attribute\n",
    "        self._age = None\n",
    "\n",
    "    # Getter method for name\n",
    "    def get_name(self):\n",
    "        return self._name\n",
    "\n",
    "    # Setter method for name\n",
    "    def set_name(self, name):\n",
    "        self._name = name\n",
    "\n",
    "    # Getter method for age\n",
    "    def get_age(self):\n",
    "        return self._age\n",
    "\n",
    "    # Setter method for age\n",
    "    def set_age(self, age):\n",
    "        if age >= 0:  # Assuming age should be a non-negative value\n",
    "            self._age = age\n",
    "        else:\n",
    "            print(\"Invalid age. Age must be non-negative.\")\n",
    "\n",
    "# Example usage:\n",
    "person_obj = Person()\n",
    "\n",
    "# Setting name and age using setter methods\n",
    "person_obj.set_name(\"John Doe\")\n",
    "person_obj.set_age(25)\n",
    "\n",
    "# Getting name and age using getter methods\n",
    "print(\"Name:\", person_obj.get_name())\n",
    "print(\"Age:\", person_obj.get_age())\n"
   ]
  }
 ],
 "metadata": {
  "kernelspec": {
   "display_name": "Python 3 (ipykernel)",
   "language": "python",
   "name": "python3"
  },
  "language_info": {
   "codemirror_mode": {
    "name": "ipython",
    "version": 3
   },
   "file_extension": ".py",
   "mimetype": "text/x-python",
   "name": "python",
   "nbconvert_exporter": "python",
   "pygments_lexer": "ipython3",
   "version": "3.10.9"
  }
 },
 "nbformat": 4,
 "nbformat_minor": 5
}
