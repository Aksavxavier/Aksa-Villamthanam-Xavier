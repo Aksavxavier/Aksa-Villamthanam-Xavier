{
 "cells": [
  {
   "cell_type": "markdown",
   "id": "2f500384",
   "metadata": {},
   "source": [
    "1.Smith wishesto register on a ticket booking website for booking bus tickets. To authenticate the registration, he needs to provide a user-id and password. There are some built-in rules for checking the validity of the passwords entered by the users.Following are the rules for checking the validity of a password:\n",
    "i.At least 1 alphabet\n",
    "ii.At least 1 digit between [0–9]\n",
    "iii.At least 1 character from [@&]\n",
    "iv.Minimum length of transaction password: 5\n",
    "v.Maximum length of transaction password: 10"
   ]
  },
  {
   "cell_type": "markdown",
   "id": "1a0a445e",
   "metadata": {},
   "source": [
    "2.Write a program for printing all elements of a list and their indexes in the list.Take the list as user input."
   ]
  },
  {
   "cell_type": "code",
   "execution_count": 13,
   "id": "cdd96194",
   "metadata": {},
   "outputs": [
    {
     "name": "stdout",
     "output_type": "stream",
     "text": [
      "Enter elements of the list separated by spaces: uyfuf\n",
      "Index 0: uyfuf\n"
     ]
    }
   ],
   "source": [
    "# Take a list as user input\n",
    "user_list = input(\"Enter elements of the list separated by spaces: \").split()\n",
    "\n",
    "# Print elements along with their indexes\n",
    "for index, element in enumerate(user_list):\n",
    "    print(f\"Index {index}: {element}\")\n"
   ]
  },
  {
   "cell_type": "code",
   "execution_count": 14,
   "id": "2d75db20",
   "metadata": {
    "scrolled": false
   },
   "outputs": [
    {
     "name": "stdout",
     "output_type": "stream",
     "text": [
      "Enter the elements without spaces or commas: gcayhdwfvua@11\n",
      "Index 0: g\n",
      "Index 1: c\n",
      "Index 2: a\n",
      "Index 3: y\n",
      "Index 4: h\n",
      "Index 5: d\n",
      "Index 6: w\n",
      "Index 7: f\n",
      "Index 8: v\n",
      "Index 9: u\n",
      "Index 10: a\n",
      "Index 11: @\n",
      "Index 12: 1\n",
      "Index 13: 1\n",
      "Password does not meet the required criteria.\n"
     ]
    }
   ],
   "source": [
    "user_input = input(\"Enter the elements without spaces or commas: \")\n",
    "\n",
    "# Split the input every two characters\n",
    "user_list = [user_input[i:i+1] for i in range(0, len(user_input), 1)]\n",
    "\n",
    "# Print elements along with their indexes\n",
    "for index, element in enumerate(user_list):\n",
    "    print(f\"Index {index}: {element}\")\n",
    "\n",
    " # Check for password validity\n",
    "has_alphabet = any(char.isalpha() for char in user_list)\n",
    "has_digit = any(char.isdigit() for char in user_list)\n",
    "has_special = any(char in ['@', '&'] for char in user_list)\n",
    "valid_length = 5 <= len(user_list) <= 10\n",
    "\n",
    "# Validate the password based on the provided rules\n",
    "if has_alphabet and has_digit and has_special and valid_length:\n",
    "    print(\"Password is valid.\")\n",
    "else:\n",
    "    print(\"Password does not meet the required criteria.\")   \n",
    "    \n",
    "   "
   ]
  },
  {
   "cell_type": "code",
   "execution_count": 15,
   "id": "49ac637f",
   "metadata": {
    "scrolled": true
   },
   "outputs": [
    {
     "name": "stdout",
     "output_type": "stream",
     "text": [
      "Enter the elements without spaces or commas: Sup@123\n",
      "Index 0: S\n",
      "Index 1: u\n",
      "Index 2: p\n",
      "Index 3: @\n",
      "Index 4: 1\n",
      "Index 5: 2\n",
      "Index 6: 3\n",
      "Password is valid.\n"
     ]
    }
   ],
   "source": [
    "user_input = input(\"Enter the elements without spaces or commas: \")\n",
    "\n",
    "# Split the input every two characters\n",
    "user_list = [user_input[i:i+1] for i in range(0, len(user_input), 1)]\n",
    "\n",
    "# Print elements along with their indexes\n",
    "for index, element in enumerate(user_list):\n",
    "    print(f\"Index {index}: {element}\")\n",
    "\n",
    " # Check for password validity\n",
    "has_alphabet = any(char.isalpha() for char in user_list)\n",
    "has_digit = any(char.isdigit() for char in user_list)\n",
    "has_special = any(char in ['@', '&'] for char in user_list)\n",
    "valid_length = 5 <= len(user_list) <= 10\n",
    "\n",
    "# Validate the password based on the provided rules\n",
    "if has_alphabet and has_digit and has_special and valid_length:\n",
    "    print(\"Password is valid.\")\n",
    "else:\n",
    "    print(\"Password does not meet the required criteria.\")   \n",
    "    "
   ]
  },
  {
   "cell_type": "code",
   "execution_count": 16,
   "id": "0f523d67",
   "metadata": {},
   "outputs": [
    {
     "name": "stdout",
     "output_type": "stream",
     "text": [
      "Enter the password without spaces or commas: hhh@123\n",
      "Password is valid.\n"
     ]
    }
   ],
   "source": [
    "user_input = input(\"Enter the password without spaces or commas: \")\n",
    "\n",
    "# Check for password validity\n",
    "has_alphabet = any(char.isalpha() for char in user_input)\n",
    "has_digit = any(char.isdigit() for char in user_input)\n",
    "has_special = any(char in '@&' for char in user_input)\n",
    "valid_length = 5 <= len(user_input) <= 10\n",
    "\n",
    "# Validate the password based on the provided rules\n",
    "if has_alphabet and has_digit and has_special and valid_length:\n",
    "    print(\"Password is valid.\")\n",
    "else:\n",
    "    print(\"Password does not meet the required criteria.\")\n"
   ]
  },
  {
   "cell_type": "markdown",
   "id": "e99ac7fd",
   "metadata": {},
   "source": [
    "3.Write  a  program thataccepts a  string from the  console and printsthe  characters that have even indexes if the character is an alphabet. Concatenate the characters and print.\n",
    "Example If the following string is given as input to the program:Ed12ur3ka1Python12\n",
    "Then, the output of the program should be:EuaPto"
   ]
  },
  {
   "cell_type": "code",
   "execution_count": 3,
   "id": "9892fef1",
   "metadata": {},
   "outputs": [
    {
     "name": "stdout",
     "output_type": "stream",
     "text": [
      "Enter a string: Ed12ur3ka1Python12\n",
      "Result: EuaPto\n"
     ]
    }
   ],
   "source": [
    "# Accept a string from the console\n",
    "input_string = input(\"Enter a string: \")\n",
    "\n",
    "# Initialize an empty string to store characters with even indexes\n",
    "result = \"\"\n",
    "\n",
    "# Iterate through the characters in the string\n",
    "for index, char in enumerate(input_string):\n",
    "    # Check if the character is an alphabet and has an even index\n",
    "    if char.isalpha() and index % 2 == 0:\n",
    "        result += char  # Concatenate the character to the result string\n",
    "\n",
    "# Print the concatenated characters with even indexes\n",
    "print(\"Result:\", result)\n"
   ]
  },
  {
   "cell_type": "markdown",
   "id": "dabdd252",
   "metadata": {},
   "source": [
    "4.Please  write  a  program thataccepts  a  string  from the console  and  printsit  in reverse order.\n",
    "Example If the following string is given as input to the program: welcome to edureka\n",
    "Then, the output of the program should be:akerude ot emoclew"
   ]
  },
  {
   "cell_type": "code",
   "execution_count": 4,
   "id": "3a5aab72",
   "metadata": {},
   "outputs": [
    {
     "name": "stdout",
     "output_type": "stream",
     "text": [
      "Enter a string: welcome to edureka\n",
      "Reversed string: akerude ot emoclew\n"
     ]
    }
   ],
   "source": [
    "# Accept a string from the console\n",
    "input_string = input(\"Enter a string: \")\n",
    "\n",
    "# Print the string in reverse order\n",
    "print(\"Reversed string:\", input_string[::-1])\n"
   ]
  },
  {
   "cell_type": "markdown",
   "id": "a15e83e9",
   "metadata": {},
   "source": [
    "5.Please write a program that counts and prints the numbers of each character in a string input by the console."
   ]
  },
  {
   "cell_type": "code",
   "execution_count": 5,
   "id": "d22d5ec9",
   "metadata": {},
   "outputs": [
    {
     "name": "stdout",
     "output_type": "stream",
     "text": [
      "Enter a string: edureka\n",
      "Character 'e' occurs 2 time(s) in the input.\n",
      "Character 'd' occurs 1 time(s) in the input.\n",
      "Character 'u' occurs 1 time(s) in the input.\n",
      "Character 'r' occurs 1 time(s) in the input.\n",
      "Character 'k' occurs 1 time(s) in the input.\n",
      "Character 'a' occurs 1 time(s) in the input.\n"
     ]
    }
   ],
   "source": [
    "# Accept a string from the console\n",
    "input_string = input(\"Enter a string: \")\n",
    "\n",
    "# Initialize an empty dictionary to store character counts\n",
    "char_count = {}\n",
    "\n",
    "# Count the occurrences of each character in the string\n",
    "for char in input_string:\n",
    "    if char in char_count:\n",
    "        char_count[char] += 1\n",
    "    else:\n",
    "        char_count[char] = 1\n",
    "\n",
    "# Print the character counts\n",
    "for char, count in char_count.items():\n",
    "    print(f\"Character '{char}' occurs {count} time(s) in the input.\")\n"
   ]
  },
  {
   "cell_type": "code",
   "execution_count": 6,
   "id": "96ef7d04",
   "metadata": {},
   "outputs": [
    {
     "name": "stdout",
     "output_type": "stream",
     "text": [
      "Enter a string: abcdefgabc\n",
      "Character 'a' occurs 2 time(s) in the input.\n",
      "Character 'b' occurs 2 time(s) in the input.\n",
      "Character 'c' occurs 2 time(s) in the input.\n",
      "Character 'd' occurs 1 time(s) in the input.\n",
      "Character 'e' occurs 1 time(s) in the input.\n",
      "Character 'f' occurs 1 time(s) in the input.\n",
      "Character 'g' occurs 1 time(s) in the input.\n"
     ]
    }
   ],
   "source": [
    "# Accept a string from the console\n",
    "input_string = input(\"Enter a string: \")\n",
    "\n",
    "# Initialize an empty dictionary to store character counts\n",
    "char_count = {}\n",
    "\n",
    "# Count the occurrences of each character in the string\n",
    "for char in input_string:\n",
    "    if char in char_count:\n",
    "        char_count[char] += 1\n",
    "    else:\n",
    "        char_count[char] = 1\n",
    "\n",
    "# Print the character counts\n",
    "for char, count in char_count.items():\n",
    "    print(f\"Character '{char}' occurs {count} time(s) in the input.\")\n"
   ]
  },
  {
   "cell_type": "markdown",
   "id": "49e92ecc",
   "metadata": {},
   "source": [
    "6.With  two  given  lists  [1,5,10,12,34,13]  and  [4,7,8,10,5,13,24],  write  a  program  to create a new list whose elements are the intersection of the above-given lists"
   ]
  },
  {
   "cell_type": "code",
   "execution_count": 7,
   "id": "38b738b6",
   "metadata": {},
   "outputs": [
    {
     "name": "stdout",
     "output_type": "stream",
     "text": [
      "Intersection of the given lists: [10, 13, 5]\n"
     ]
    }
   ],
   "source": [
    "list1 = [1, 5, 10, 12, 34, 13]\n",
    "list2 = [4, 7, 8, 10, 5, 13, 24]\n",
    "\n",
    "# Create a new list containing elements that are common between list1 and list2\n",
    "intersection_list = list(set(list1) & set(list2))\n",
    "\n",
    "print(\"Intersection of the given lists:\", intersection_list)\n"
   ]
  },
  {
   "cell_type": "markdown",
   "id": "10a31189",
   "metadata": {},
   "source": [
    "7.By using list comprehension, please write a program to print the list after removing the values which are divisible by 6in [12,24,35,24,88,120,155]."
   ]
  },
  {
   "cell_type": "code",
   "execution_count": 8,
   "id": "c80e43fa",
   "metadata": {},
   "outputs": [
    {
     "name": "stdout",
     "output_type": "stream",
     "text": [
      "List after removing values divisible by 6: [35, 88, 155]\n"
     ]
    }
   ],
   "source": [
    "original_list = [12, 24, 35, 24, 88, 120, 155]\n",
    "\n",
    "# Use list comprehension to filter values not divisible by 6\n",
    "result_list = [x for x in original_list if x % 6 != 0]\n",
    "\n",
    "print(\"List after removing values divisible by 6:\", result_list)\n"
   ]
  },
  {
   "cell_type": "markdown",
   "id": "83a76e15",
   "metadata": {},
   "source": [
    "8.By using list comprehension, please write a program to print the list after removing the 1st,3rd,and 5th numbers in [12,24,35,70,88,120,155]."
   ]
  },
  {
   "cell_type": "code",
   "execution_count": 9,
   "id": "573e067d",
   "metadata": {},
   "outputs": [
    {
     "name": "stdout",
     "output_type": "stream",
     "text": [
      "List after removing 1st, 3rd, and 5th numbers: [24, 70, 120, 155]\n"
     ]
    }
   ],
   "source": [
    "original_list = [12, 24, 35, 70, 88, 120, 155]\n",
    "\n",
    "# Use list comprehension to filter out elements at indices 0, 2, and 4\n",
    "result_list = [original_list[i] for i in range(len(original_list)) if i not in (0, 2, 4)]\n",
    "\n",
    "print(\"List after removing 1st, 3rd, and 5th numbers:\", result_list)\n"
   ]
  },
  {
   "cell_type": "markdown",
   "id": "eab7aa42",
   "metadata": {},
   "source": [
    "9.Please  write  a  program  to  randomly  generate  a  list  with 6numbers,  which  are divisible by 5 and 7, between 1 and 1500 inclusive."
   ]
  },
  {
   "cell_type": "code",
   "execution_count": 10,
   "id": "abc6bcb4",
   "metadata": {},
   "outputs": [
    {
     "name": "stdout",
     "output_type": "stream",
     "text": [
      "List of 6 random numbers divisible by 5 and 7: []\n"
     ]
    }
   ],
   "source": [
    "import random\n",
    "\n",
    "# Generate a list of 6 random numbers divisible by both 5 and 7\n",
    "result_list = [num for num in random.sample(range(1, 1501), 6) if num % 5 == 0 and num % 7 == 0]\n",
    "\n",
    "print(\"List of 6 random numbers divisible by 5 and 7:\", result_list)\n"
   ]
  },
  {
   "cell_type": "markdown",
   "id": "280c0845",
   "metadata": {},
   "source": [
    "10.Write  a  program  to  compute  1/2+2/3+3/4+...+n/n+1  with  a  given  n  input  by console (n>0).\n",
    "ExampleIf the following n is given as input to the program:5\n",
    "Then, the output of the program should be:3.55"
   ]
  },
  {
   "cell_type": "code",
   "execution_count": 11,
   "id": "9e68d58b",
   "metadata": {},
   "outputs": [
    {
     "name": "stdout",
     "output_type": "stream",
     "text": [
      "Enter a value for n: 5\n",
      "Result: 3.55\n"
     ]
    }
   ],
   "source": [
    "n = int(input(\"Enter a value for n: \"))\n",
    "\n",
    "# Compute the series\n",
    "result = sum(i / (i + 1) for i in range(1, n + 1))\n",
    "\n",
    "print(\"Result:\", round(result, 2))\n"
   ]
  },
  {
   "cell_type": "markdown",
   "id": "8b702ba0",
   "metadata": {},
   "source": [
    "11.Case Study"
   ]
  },
  {
   "cell_type": "markdown",
   "id": "f440af0f",
   "metadata": {},
   "source": [
    "First, the initial code to encrypt the Unique ID using only digits:"
   ]
  },
  {
   "cell_type": "code",
   "execution_count": 17,
   "id": "fd13d1c9",
   "metadata": {},
   "outputs": [
    {
     "name": "stdout",
     "output_type": "stream",
     "text": [
      "Enter the Unique ID: 1234567890\n",
      "Encrypted ID: 23456789:1\n"
     ]
    }
   ],
   "source": [
    "# Encryption function for Unique ID containing only digits\n",
    "def encrypt_id(unique_id):\n",
    "    # Check for validity - 10 digits, numbers only\n",
    "    if unique_id.isdigit() and len(unique_id) == 10:\n",
    "        # Encryption (For illustration, a basic replacement of characters)\n",
    "        encrypted_id = \"\".join(chr(ord(digit) + 1) for digit in unique_id)\n",
    "        return encrypted_id\n",
    "    else:\n",
    "        return \"Invalid Unique ID\"\n",
    "\n",
    "# Reading input from the command line\n",
    "user_id = input(\"Enter the Unique ID: \")\n",
    "\n",
    "# Encrypt the Unique ID and print the encrypted version\n",
    "print(\"Encrypted ID:\", encrypt_id(user_id))\n"
   ]
  },
  {
   "cell_type": "code",
   "execution_count": null,
   "id": "0116b3dc",
   "metadata": {},
   "outputs": [],
   "source": [
    "Then enhance the code to allow alphabets and special characters and offer an option for decryption:"
   ]
  },
  {
   "cell_type": "code",
   "execution_count": 21,
   "id": "cf3a1cff",
   "metadata": {},
   "outputs": [
    {
     "name": "stdout",
     "output_type": "stream",
     "text": [
      "Enter the Unique ID: 1234567890a@\n",
      "Encrypted ID: 23456789:1bA\n",
      "Do you want to decrypt the ID? (yes/no): no\n"
     ]
    }
   ],
   "source": [
    "# Enhanced Encryption function for Unique ID containing alphanumeric and special characters\n",
    "def enhanced_encrypt_id(unique_id):\n",
    "    # Check for validity - Custom criteria (here, minimum length 5)\n",
    "    if len(unique_id) >= 5:\n",
    "        # Encryption (For illustration, a basic replacement of characters)\n",
    "        encrypted_id = \"\".join(chr(ord(char) + 1) for char in unique_id)\n",
    "        return encrypted_id\n",
    "    else:\n",
    "        return \"Invalid Unique ID\"\n",
    "\n",
    "# Decryption function\n",
    "def decrypt_id(encrypted_id):\n",
    "    decrypted_id = \"\".join(chr(ord(char) - 1) for char in encrypted_id)\n",
    "    return decrypted_id\n",
    "\n",
    "# Reading input from the command line\n",
    "user_id = input(\"Enter the Unique ID: \")\n",
    "\n",
    "# Encrypt the Unique ID and print the encrypted version\n",
    "print(\"Encrypted ID:\", enhanced_encrypt_id(user_id))\n",
    "\n",
    "# Option for decryption\n",
    "choice = input(\"Do you want to decrypt the ID? (yes/no): \")\n",
    "if choice.lower() == 'yes':\n",
    "    decrypted = decrypt_id(encrypted_id)\n",
    "    print(\"Decrypted ID:\", decrypted)\n"
   ]
  },
  {
   "cell_type": "code",
   "execution_count": null,
   "id": "8bcd2f8f",
   "metadata": {},
   "outputs": [],
   "source": []
  }
 ],
 "metadata": {
  "kernelspec": {
   "display_name": "Python 3 (ipykernel)",
   "language": "python",
   "name": "python3"
  },
  "language_info": {
   "codemirror_mode": {
    "name": "ipython",
    "version": 3
   },
   "file_extension": ".py",
   "mimetype": "text/x-python",
   "name": "python",
   "nbconvert_exporter": "python",
   "pygments_lexer": "ipython3",
   "version": "3.10.9"
  }
 },
 "nbformat": 4,
 "nbformat_minor": 5
}
